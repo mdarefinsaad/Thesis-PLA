{
 "cells": [
  {
   "cell_type": "markdown",
   "metadata": {},
   "source": [
    "Preprocessing - **PCA** (component=4)  \n",
    "Algorithm - **SVM Classification**  \n",
    "Feature - **Magnitude** **(251)**"
   ]
  },
  {
   "cell_type": "code",
   "execution_count": null,
   "metadata": {},
   "outputs": [
    {
     "name": "stdout",
     "output_type": "stream",
     "text": [
      "trainData - (600, 15, 251, 2)\n",
      "testData - (200, 15, 251, 2)\n",
      "Evaluation Data: (200, 15, 251, 2)\n"
     ]
    }
   ],
   "source": [
    "\n",
    "import numpy as np\n",
    "from sklearn.decomposition import PCA\n",
    "from sklearn.model_selection import train_test_split\n",
    "from sklearn.preprocessing import StandardScaler\n",
    "from sklearn.metrics import accuracy_score, confusion_matrix\n",
    "from sklearn.svm import SVC\n",
    "\n",
    "# Load dataset\n",
    "measurement = np.load('../test/dataset/meas_symm_1.npz', allow_pickle=False)\n",
    "header, data = measurement['header'], measurement['data']\n",
    "data_cir = data['cirs'][:1000]\n",
    "\n",
    "# Train-test split\n",
    "# First, split into train (60%) and temp (40%) sets\n",
    "trainCIR, tempCIR = train_test_split(data_cir, test_size=0.4, random_state=42)\n",
    "\n",
    "# Now, split tempCIR into test (20%) and evaluation (20%) sets\n",
    "testCIR, evalCIR = train_test_split(tempCIR, test_size=0.5, random_state=42)\n",
    "\n",
    "print(f'trainData - {trainCIR.shape}')\n",
    "print(f'testData - {testCIR.shape}')\n",
    "print(f\"Evaluation Data: {evalCIR.shape}\")\n",
    "\n",
    "# Define channels\n",
    "alice_channel = 3  # A -> B (legitimate)\n",
    "eve_channel = 6  # E -> B (illegitimate)\n",
    "n_comp = 6"
   ]
  },
  {
   "cell_type": "code",
   "execution_count": null,
   "metadata": {},
   "outputs": [
    {
     "name": "stdout",
     "output_type": "stream",
     "text": [
      "reshaped_data: (1200, 251)\n",
      "data_scaled: (1200, 251)\n",
      "train_cirs_pca: (1200, 6)\n",
      "test_cirs: (400, 251)\n",
      "test_cirs_scaled: (400, 251)\n",
      "test_cirs_pca: (400, 6)\n"
     ]
    }
   ],
   "source": [
    "# -------------------------------------------------- Preprocessing ------------------------------------------\n",
    "def apply_pca(data, n_components):\n",
    "    \n",
    "    reshaped_data = data.reshape(data.shape[0], -1)  \n",
    "    \n",
    "    scaler = StandardScaler()\n",
    "    data_scaled = scaler.fit_transform(reshaped_data)\n",
    "    \n",
    "    pca = PCA(n_components=n_components)\n",
    "    data_pca = pca.fit_transform(data_scaled)  # (samples, n_components)\n",
    "    \n",
    "    return data_pca, scaler, pca\n",
    "\n",
    "# -------- Train --------\n",
    "# Feature Extraction\n",
    "train_alice_cirs = trainCIR[:, alice_channel, :, :]\n",
    "train_eve_cirs = trainCIR[:, eve_channel, :, :]\n",
    "\n",
    "train_alice_mag = np.abs(train_alice_cirs[..., 0] + 1j * train_alice_cirs[..., 1])\n",
    "train_eve_mag = np.abs(train_eve_cirs[..., 0] + 1j * train_eve_cirs[..., 1])\n",
    "\n",
    "train_cirs = np.vstack((train_alice_mag, train_eve_mag))\n",
    "train_cirs_pca, scaler, pca = apply_pca(train_cirs, n_components=n_comp) \n",
    "print(f'train_cirs_pca: {train_cirs_pca.shape}')\n",
    "\n",
    "# -------- Test --------\n",
    "# Feature Extraction\n",
    "test_alice_cirs = testCIR[:, alice_channel, :, :]\n",
    "test_eve_cirs = testCIR[:, eve_channel, :, :]\n",
    "\n",
    "test_alice_mag = np.abs(test_alice_cirs[..., 0] + 1j * test_alice_cirs[..., 1])\n",
    "test_eve_mag = np.abs(test_eve_cirs[..., 0] + 1j * test_eve_cirs[..., 1])\n",
    "test_cirs = np.vstack((test_alice_mag, test_eve_mag))\n",
    "\n",
    "# Scale\n",
    "test_cirs_scaled = scaler.transform(test_cirs)\n",
    "print(f'test_cirs_scaled: {test_cirs_scaled.shape}')\n",
    "# PCA\n",
    "test_cirs_pca = pca.transform(test_cirs_scaled)\n",
    "print(f'test_cirs_pca: {test_cirs_pca.shape}')\n",
    "\n",
    "# ----------- Labels -----------\n",
    "# train\n",
    "train_alice_labels = np.zeros(train_alice_cirs.shape[0])\n",
    "train_eve_labels = np.ones(train_eve_cirs.shape[0])\n",
    "train_labels = np.hstack((train_alice_labels, train_eve_labels))\n",
    "# test\n",
    "test_alice_label = np.zeros(test_alice_cirs.shape[0])\n",
    "test_eve_labels = np.ones(test_eve_cirs.shape[0])\n",
    "test_labels = np.hstack((test_alice_label, test_eve_labels))\n"
   ]
  },
  {
   "cell_type": "code",
   "execution_count": null,
   "metadata": {},
   "outputs": [],
   "source": [
    "\n",
    "# ----------------- Classification -----------------\n",
    "\n",
    "# Initialize and train the SVM classifier\n",
    "classifier = SVC(kernel='rbf', random_state=42)\n",
    "classifier.fit(train_cirs_pca, train_labels)\n",
    "\n",
    "# Predict on test data\n",
    "predictions = classifier.predict(test_cirs_pca)"
   ]
  },
  {
   "cell_type": "code",
   "execution_count": 13,
   "metadata": {},
   "outputs": [
    {
     "name": "stdout",
     "output_type": "stream",
     "text": [
      "Classification Accuracy: 76.50%\n",
      "tp: 152\n",
      "tn: 154\n",
      "fp: 46\n",
      "fn: 48\n",
      "MDR: 0.23\n",
      "FAR: 0.24\n",
      "AR: 0.765\n"
     ]
    }
   ],
   "source": [
    "# ----------------- Testing Evaluation -----------------\n",
    "# Calculate accuracy\n",
    "accuracy = accuracy_score(test_labels, predictions)\n",
    "print(f\"Classification Accuracy: {accuracy * 100:.2f}%\")\n",
    "\n",
    "# Calculate confusion matrix\n",
    "tn, fp, fn, tp = confusion_matrix(test_labels, predictions, labels=[0, 1]).ravel()\n",
    "\n",
    "print(f\"tp: {tp}\")\n",
    "print(f\"tn: {tn}\")\n",
    "print(f\"fp: {fp}\")\n",
    "print(f\"fn: {fn}\")\n",
    "\n",
    "# Missed Detection Rate (MDR)\n",
    "MDR = fp / (fp + tn) if (fp + tn) > 0 else 0\n",
    "\n",
    "# False Alarm Rate (FAR)\n",
    "FAR = fn / (fn + tp) if (fn + tp) > 0 else 0\n",
    "\n",
    "# Gamma calculation\n",
    "gamma = (tp + fn) / (tn + fp) if (tn + fp) > 0 else 0\n",
    "\n",
    "# Authentication Rate (AR)\n",
    "denominator = (tp + fn) + gamma * (tn + fp)\n",
    "AR = (tp + gamma * tn) / denominator if denominator > 0 else 0\n",
    "\n",
    "print(f\"MDR: {MDR}\")\n",
    "print(f\"FAR: {FAR}\")\n",
    "print(f\"AR: {AR}\")"
   ]
  },
  {
   "cell_type": "code",
   "execution_count": 14,
   "metadata": {},
   "outputs": [
    {
     "name": "stdout",
     "output_type": "stream",
     "text": [
      "Classification Accuracy: 77.25%\n",
      "tp: 155\n",
      "tn: 154\n",
      "fp: 46\n",
      "fn: 45\n",
      "MDR: 0.23\n",
      "FAR: 0.225\n",
      "AR: 0.7725\n"
     ]
    }
   ],
   "source": [
    "# -------------------------------------------------------- Evaluation --------------------------------------------------------\n",
    "# Feature Extraction\n",
    "eval_alice_cirs = evalCIR[:, alice_channel, :, :]\n",
    "eval_eve_cirs = evalCIR[:, eve_channel, :, :]\n",
    "\n",
    "eval_alice_mag = np.abs(eval_alice_cirs[..., 0] + 1j * eval_alice_cirs[..., 1])\n",
    "eval_eve_mag = np.abs(eval_eve_cirs[..., 0] + 1j * eval_eve_cirs[..., 1])\n",
    "eval_cirs = np.vstack((eval_alice_mag, eval_eve_mag))\n",
    "\n",
    "# Scale evaluation data\n",
    "eval_cirs_scaled = scaler.transform(eval_cirs)\n",
    "\n",
    "# Apply PCA to evaluation data\n",
    "eval_cirs_pca = pca.transform(eval_cirs_scaled)\n",
    "\n",
    "# Labels for evaluation data\n",
    "eval_alice_labels = np.zeros(eval_alice_cirs.shape[0])  # Label '0' for Alice\n",
    "eval_eve_labels = np.ones(eval_eve_cirs.shape[0])       # Label '1' for Eve\n",
    "eval_labels = np.hstack((eval_alice_labels, eval_eve_labels))\n",
    "\n",
    "# Predict on evaluation data\n",
    "eval_predictions = classifier.predict(eval_cirs_pca)\n",
    "\n",
    "# Calculate accuracy\n",
    "eval_accuracy  = accuracy_score(eval_labels, eval_predictions)\n",
    "print(f\"Classification Accuracy: {eval_accuracy * 100:.2f}%\")\n",
    "\n",
    "# Calculate confusion matrix\n",
    "tn, fp, fn, tp = confusion_matrix(eval_labels, eval_predictions, labels=[0, 1]).ravel()\n",
    "\n",
    "print(f\"tp: {tp}\")\n",
    "print(f\"tn: {tn}\")\n",
    "print(f\"fp: {fp}\")\n",
    "print(f\"fn: {fn}\")\n",
    "\n",
    "# Missed Detection Rate (MDR)\n",
    "MDR = fp / (fp + tn) if (fp + tn) > 0 else 0\n",
    "\n",
    "# False Alarm Rate (FAR)\n",
    "FAR = fn / (fn + tp) if (fn + tp) > 0 else 0\n",
    "\n",
    "# Gamma calculation\n",
    "gamma = (tp + fn) / (tn + fp) if (tn + fp) > 0 else 0\n",
    "\n",
    "# Authentication Rate (AR)\n",
    "denominator = (tp + fn) + gamma * (tn + fp)\n",
    "AR = (tp + gamma * tn) / denominator if denominator > 0 else 0\n",
    "\n",
    "print(f\"MDR: {MDR}\")\n",
    "print(f\"FAR: {FAR}\")\n",
    "print(f\"AR: {AR}\")\n",
    "\n"
   ]
  },
  {
   "cell_type": "code",
   "execution_count": 15,
   "metadata": {},
   "outputs": [],
   "source": [
    "# import matplotlib.pyplot as plt\n",
    "# accu = [70.75, 71.00, 73.25, 74.00, 75.50]\n",
    "# comp = [2, 3, 4, 5, 6]\n",
    "\n",
    "# plt.figure(figsize=(10, 6))\n",
    "# plt.plot(accu, comp, marker='o', linestyle='-', color='b')\n",
    "# plt.xlabel('Classification Accuracy (%)')\n",
    "# plt.ylabel('Number of PCA Components')\n",
    "# plt.title('Classification Accuracy vs. PCA Components')\n",
    "# plt.yticks(comp)  # Set y-axis ticks to match the components values\n",
    "# plt.grid(True)\n",
    "# plt.show()\n",
    "\n",
    "# method = [\"Sparse Classifier\", \"OneClassSVM\", \"SVM\", \"Sparse data + SVM\"]\n",
    "# acc = [53.50, 61.25, 75.75, 84.50]\n",
    "\n",
    "# plt.figure(figsize=(10, 6))\n",
    "# plt.plot(method, acc, marker='o', linestyle='-', color='b')\n",
    "# plt.xlabel('Method')\n",
    "# plt.ylabel('Accuracy (%)')\n",
    "# plt.title('Classification Accuracy vs. Methods')\n",
    "# # plt.yticks(acc)  # Set y-axis ticks to match the components values\n",
    "# plt.grid(True)\n",
    "# plt.show()"
   ]
  }
 ],
 "metadata": {
  "kernelspec": {
   "display_name": "CRKG",
   "language": "python",
   "name": "python3"
  },
  "language_info": {
   "codemirror_mode": {
    "name": "ipython",
    "version": 3
   },
   "file_extension": ".py",
   "mimetype": "text/x-python",
   "name": "python",
   "nbconvert_exporter": "python",
   "pygments_lexer": "ipython3",
   "version": "3.12.9"
  }
 },
 "nbformat": 4,
 "nbformat_minor": 2
}
